{
 "cells": [
  {
   "cell_type": "markdown",
   "id": "375e71ab-9f43-403d-bed2-abfe1652dd1e",
   "metadata": {
    "tags": []
   },
   "source": [
    "# Import Dependencies"
   ]
  },
  {
   "cell_type": "code",
   "execution_count": 1,
   "id": "bddfe6a8-306c-4e97-8632-b733592873c8",
   "metadata": {},
   "outputs": [],
   "source": [
    "import cv2\n",
    "from matplotlib import pyplot as plt\n",
    "import random\n",
    "import os\n",
    "import numpy as np\n",
    "\n",
    "# import tensorflow\n",
    "from tensorflow.keras.models import Model\n",
    "from tensorflow.keras.layers import Layer, Conv2D, Dense, MaxPooling2D, Input, Flatten\n",
    "import tensorflow as tf"
   ]
  },
  {
   "cell_type": "code",
   "execution_count": 2,
   "id": "ddab01aa-6ace-4fb5-b122-75310090a137",
   "metadata": {
    "tags": []
   },
   "outputs": [],
   "source": [
    "# Avoid OOM errors by limiting the tensorflow usage of GPU to required limit\n",
    "gpus = tf.config.experimental.list_physical_devices('GPU')\n",
    "for gpu in gpus:\n",
    "    tf.config.experimental.set_memory_growth(gpu, True)"
   ]
  },
  {
   "cell_type": "markdown",
   "id": "e57eca1d-9666-49c9-a57e-382577fab04e",
   "metadata": {
    "tags": []
   },
   "source": [
    "# Create Directories for Data"
   ]
  },
  {
   "cell_type": "code",
   "execution_count": 3,
   "id": "b0a8ee53-4f91-4384-8e53-69f75187aaeb",
   "metadata": {},
   "outputs": [],
   "source": [
    "POS_PATH = os.path.join('data', 'positive')\n",
    "NEG_PATH = os.path.join('data', 'negative')\n",
    "ANC_PATH = os.path.join('data', 'anchor')"
   ]
  },
  {
   "cell_type": "code",
   "execution_count": 12,
   "id": "5c6afed7-f79d-4dd6-8709-7b142f26b396",
   "metadata": {},
   "outputs": [],
   "source": [
    "# This creates the floders in the specfied path\n",
    "\n",
    "directories = [POS_PATH, NEG_PATH, ANC_PATH]\n",
    "for direc in directories:\n",
    "    os.makedirs(direc)"
   ]
  },
  {
   "cell_type": "markdown",
   "id": "7452680b-18c8-46f9-9275-29e89ba8bb6a",
   "metadata": {
    "tags": []
   },
   "source": [
    "# Creating DataSets "
   ]
  },
  {
   "cell_type": "code",
   "execution_count": 35,
   "id": "4e9029db-a9f3-4b93-83a8-29cf1c538cc5",
   "metadata": {},
   "outputs": [],
   "source": [
    "# Move the images downloaded to the respective directory \n",
    "\n",
    "for directory in os.listdir(os.path.join('data', 'lfw')):\n",
    "    for file in os.listdir(os.path.join(os.path.join('data', 'lfw'), directory)):\n",
    "        EX_PATH = os.path.join(os.path.join('data', 'lfw'), directory, file)\n",
    "        NEW_PATH = os.path.join(NEG_PATH, file)\n",
    "        os.replace(EX_PATH, NEW_PATH)"
   ]
  },
  {
   "cell_type": "markdown",
   "id": "22f96928-2a65-4d16-84a5-357b02b35dc7",
   "metadata": {},
   "source": [
    "# Collect Postive DataSet"
   ]
  },
  {
   "cell_type": "code",
   "execution_count": 1,
   "id": "db6b6d23-e24d-41e3-9648-70e1335c7409",
   "metadata": {},
   "outputs": [],
   "source": [
    "import uuid"
   ]
  },
  {
   "cell_type": "code",
   "execution_count": 5,
   "id": "e0c437f5-992a-4248-88f5-8c26b0c5ac34",
   "metadata": {},
   "outputs": [],
   "source": [
    "# Extract images from webcam using Open-CV to create dataset\n",
    "# NOTE:- NUMBER IN VIDEOCAPTURE MIGHT CHANGE FOR YOU SO KEEP THAT IN MIND\n",
    "\n",
    "cap = cv2.VideoCapture(0)\n",
    "while cap.isOpened:\n",
    "    ret, frame = cap.read()\n",
    "    \n",
    "    # this is to make frame sixe 250x250 so that we can get the image in 250x250...   Use this in place of frame size  # frame[120:120+250,200:200+250, :]\n",
    "    frame = frame[220:90+950, 820:600+850 :]\n",
    "    \n",
    "    if cv2.waitKey(1) & 0xFF == ord('a'):\n",
    "        image_name = os.path.join(ANC_PATH, '{}.jpg'.format(uuid.uuid1()))\n",
    "        # write image to directory \n",
    "        cv2.imwrite(image_name, frame)\n",
    "        \n",
    "    if cv2.waitKey(1) & 0XFF == ord('p'):\n",
    "        postive_image_name = os.path.join(POS_PATH, '{}.jpg'.format(uuid.uuid1()))\n",
    "        # write image to directory \n",
    "        cv2.imwrite(postive_image_name, frame)\n",
    "    \n",
    "    cv2.imshow('Dataset creation', frame)\n",
    "    \n",
    "    if cv2.waitKey(1) & 0xFF == ord('q'):\n",
    "        break\n",
    "cap.release()\n",
    "cv2.destroyAllWindows()"
   ]
  },
  {
   "cell_type": "code",
   "execution_count": 38,
   "id": "cc0f2dc1-a8fc-42ce-83fc-66ee683c19b6",
   "metadata": {},
   "outputs": [],
   "source": [
    "# Use this only if the image size is not equal to 250x250\n",
    "\n",
    "import glob\n",
    "images = glob.glob('{}/*.jpg'.format(os.path.join(POS_PATH)))\n",
    "for ima in images:\n",
    "    im = cv2.imread(ima)\n",
    "    im = cv2.resize(im, (250, 250))\n",
    "    cv2.imwrite(ima, im)"
   ]
  },
  {
   "cell_type": "markdown",
   "id": "70c0cc6f-0424-4cdd-87c7-691730c55af9",
   "metadata": {},
   "source": [
    "# Load and Preprocess Data"
   ]
  },
  {
   "cell_type": "code",
   "execution_count": 4,
   "id": "e14585a2-2841-4801-a9e4-cfedd4909c48",
   "metadata": {},
   "outputs": [],
   "source": [
    "# Get image directories\n",
    "import glob\n",
    "pos_path = glob.glob('{}/*.jpg'.format(os.path.join(POS_PATH)))\n",
    "anc_path = glob.glob('{}/*.jpg'.format(os.path.join(ANC_PATH)))\n",
    "neg_path = glob.glob('{}/*.jpg'.format(os.path.join(NEG_PATH)))\n",
    "\n",
    "# Adding the data into tensorflow data pipeline\n",
    "anchor = tf.data.Dataset.list_files(anc_path).take(86)\n",
    "positive = tf.data.Dataset.list_files(pos_path).take(86)\n",
    "negative = tf.data.Dataset.list_files(neg_path).take(86)"
   ]
  },
  {
   "cell_type": "code",
   "execution_count": 5,
   "id": "7e2d23a0-bd3a-43e4-90b5-b7888f4b9b13",
   "metadata": {},
   "outputs": [],
   "source": [
    "# Preproccessing image\n",
    "\n",
    "def preprocess(file_path):\n",
    "    \n",
    "    # Reading the image from given path\n",
    "    byte_img = tf.io.read_file(file_path)\n",
    "    \n",
    "    # Decoding the image\n",
    "    img = tf.io.decode_jpeg(byte_img)\n",
    "    \n",
    "    # Resizing according to the paper specifications\n",
    "    img = tf.image.resize(img, (100, 100))\n",
    "    \n",
    "    # Scaling the image to be between 0 to 1\n",
    "    img = img / 255.0\n",
    "    \n",
    "    return img"
   ]
  },
  {
   "cell_type": "code",
   "execution_count": 6,
   "id": "051feccd-cd07-488e-b070-8f164701d7cc",
   "metadata": {},
   "outputs": [],
   "source": [
    "positives = tf.data.Dataset.zip((anchor, positive, tf.data.Dataset.from_tensor_slices(tf.ones(len(anchor)))))\n",
    "negatives = tf.data.Dataset.zip((anchor, negative, tf.data.Dataset.from_tensor_slices(tf.zeros(len(anchor)))))\n",
    "data = positives.concatenate(negatives)"
   ]
  },
  {
   "cell_type": "markdown",
   "id": "937f1293-8cf6-44bf-abda-9ee0d081abba",
   "metadata": {},
   "source": [
    "# Build Train and Test Partition"
   ]
  },
  {
   "cell_type": "code",
   "execution_count": 7,
   "id": "e0e649c3-b01f-4948-be06-c5f798267411",
   "metadata": {},
   "outputs": [],
   "source": [
    "def preprocess_twin(input_image, validation_image, label):\n",
    "    return(preprocess(input_image), preprocess(validation_image), label)"
   ]
  },
  {
   "cell_type": "code",
   "execution_count": 8,
   "id": "80e7fdf9-9297-463d-b67b-f47d466763af",
   "metadata": {},
   "outputs": [],
   "source": [
    "# # Build data loader pipeline \n",
    "\n",
    "data = data.map(preprocess_twin)\n",
    "data = data.cache()\n",
    "data = data.shuffle(buffer_size=1024)"
   ]
  },
  {
   "cell_type": "code",
   "execution_count": 9,
   "id": "010dbf63-57bf-4798-8d65-1b9696a3253b",
   "metadata": {},
   "outputs": [
    {
     "data": {
      "text/plain": [
       "0.0"
      ]
     },
     "execution_count": 9,
     "metadata": {},
     "output_type": "execute_result"
    },
    {
     "data": {
      "image/png": "[encoded data removed]",
      "text/plain": [
       "<Figure size 432x288 with 1 Axes>"
      ]
     },
     "metadata": {
      "needs_background": "light"
     },
     "output_type": "display_data"
    }
   ],
   "source": [
    "# This is to check the data is corectly mapped \n",
    "samples = data.as_numpy_iterator()\n",
    "sam = samples.next()\n",
    "plt.imshow(sam[1])\n",
    "sam[2]"
   ]
  },
  {
   "cell_type": "code",
   "execution_count": 10,
   "id": "8843d13e-f1e1-499e-8f1b-d839f38b4dd1",
   "metadata": {},
   "outputs": [],
   "source": [
    "train_data = data.take(round(len(data)* .7))\n",
    "train_data = train_data.batch(16)\n",
    "train_data = train_data.prefetch(8)"
   ]
  },
  {
   "cell_type": "code",
   "execution_count": 11,
   "id": "ebf17af0-2736-49f0-b814-24730f1a5a8b",
   "metadata": {},
   "outputs": [],
   "source": [
    "# Testing partition\n",
    "\n",
    "test_data = data.skip(round(len(data)* .7))\n",
    "test_data = test_data.take(round(len(data)* .3))\n",
    "test_data = test_data.batch(16)\n",
    "test_data = test_data.prefetch(8)"
   ]
  },
  {
   "cell_type": "markdown",
   "id": "81b4e2ff-9bc4-4cc8-8109-e374dde6f2d1",
   "metadata": {},
   "source": [
    "# Model Creation "
   ]
  },
  {
   "cell_type": "code",
   "execution_count": 12,
   "id": "416843fc-4a19-4bcd-9adb-06fafde57f19",
   "metadata": {},
   "outputs": [
    {
     "name": "stdout",
     "output_type": "stream",
     "text": [
      "KerasTensor(type_spec=TensorSpec(shape=(None, 100, 100, 3), dtype=tf.float32, name='input_image'), name='input_image', description=\"created by layer 'input_image'\")\n",
      "KerasTensor(type_spec=TensorSpec(shape=(None, 91, 91, 64), dtype=tf.float32, name=None), name='conv2d/Relu:0', description=\"created by layer 'conv2d'\")\n",
      "KerasTensor(type_spec=TensorSpec(shape=(None, 46, 46, 64), dtype=tf.float32, name=None), name='max_pooling2d/MaxPool:0', description=\"created by layer 'max_pooling2d'\")\n"
     ]
    }
   ],
   "source": [
    "inp = Input(shape=(100, 100, 3), name='input_image')\n",
    "conv1 = Conv2D(64, (10, 10), activation='relu')(inp)\n",
    "max1 = MaxPooling2D(64, (2, 2), padding='same')(conv1)\n",
    "\n",
    "print(inp)\n",
    "print(conv1)\n",
    "print(max1)"
   ]
  },
  {
   "cell_type": "code",
   "execution_count": 13,
   "id": "b41c3283-d8ba-47a3-8e18-59acf286fa80",
   "metadata": {},
   "outputs": [],
   "source": [
    "def model_embedding():\n",
    "    inp = Input(shape=(100, 100, 3), name='input_image')\n",
    "    \n",
    "    # First conv2D\n",
    "    conv1 = Conv2D(64, (10, 10), activation='relu')(inp)\n",
    "    max1 = MaxPooling2D(64, (2, 2), padding='same')(conv1)\n",
    "    \n",
    "    # Second conv2D\n",
    "    conv2 = Conv2D(128, (7, 7), activation='relu')(max1)\n",
    "    max2 = MaxPooling2D(64, (2, 2), padding='same')(conv2)\n",
    "    \n",
    "    # Third conv2D\n",
    "    conv3 = Conv2D(128, (4, 4), activation='relu')(max2)\n",
    "    max3 = MaxPooling2D(64, (2, 2), padding='same')(conv3)\n",
    "    \n",
    "    # Final conv2D\n",
    "    conv4 = Conv2D(256, (4, 4), activation='relu')(max3)\n",
    "    flat1 = Flatten()(conv4)\n",
    "    dense1 = Dense(4096, activation='sigmoid')(flat1)\n",
    "    \n",
    "    return Model(inputs=[inp], outputs=[dense1], name='embedding')"
   ]
  },
  {
   "cell_type": "code",
   "execution_count": 14,
   "id": "4c6eca9a-45c9-4a68-90aa-eda174adf780",
   "metadata": {},
   "outputs": [
    {
     "name": "stdout",
     "output_type": "stream",
     "text": [
      "Model: \"embedding\"\n",
      "_________________________________________________________________\n",
      " Layer (type)                Output Shape              Param #   \n",
      "=================================================================\n",
      " input_image (InputLayer)    [(None, 100, 100, 3)]     0         \n",
      "                                                                 \n",
      " conv2d_1 (Conv2D)           (None, 91, 91, 64)        19264     \n",
      "                                                                 \n",
      " max_pooling2d_1 (MaxPooling  (None, 46, 46, 64)       0         \n",
      " 2D)                                                             \n",
      "                                                                 \n",
      " conv2d_2 (Conv2D)           (None, 40, 40, 128)       401536    \n",
      "                                                                 \n",
      " max_pooling2d_2 (MaxPooling  (None, 20, 20, 128)      0         \n",
      " 2D)                                                             \n",
      "                                                                 \n",
      " conv2d_3 (Conv2D)           (None, 17, 17, 128)       262272    \n",
      "                                                                 \n",
      " max_pooling2d_3 (MaxPooling  (None, 9, 9, 128)        0         \n",
      " 2D)                                                             \n",
      "                                                                 \n",
      " conv2d_4 (Conv2D)           (None, 6, 6, 256)         524544    \n",
      "                                                                 \n",
      " flatten (Flatten)           (None, 9216)              0         \n",
      "                                                                 \n",
      " dense (Dense)               (None, 4096)              37752832  \n",
      "                                                                 \n",
      "=================================================================\n",
      "Total params: 38,960,448\n",
      "Trainable params: 38,960,448\n",
      "Non-trainable params: 0\n",
      "_________________________________________________________________\n"
     ]
    }
   ],
   "source": [
    "embedding = model_embedding()\n",
    "embedding.summary()"
   ]
  },
  {
   "cell_type": "markdown",
   "id": "83b76e33-3d05-4214-bcbd-fa3aea13ba3b",
   "metadata": {},
   "source": [
    "# Build Distance Layer"
   ]
  },
  {
   "cell_type": "code",
   "execution_count": 15,
   "id": "ba50c132-f2b6-44b1-8383-581b99fd218d",
   "metadata": {},
   "outputs": [],
   "source": [
    "# Siamese L1 Distance class\n",
    "class L1Dist(Layer):\n",
    "    def __init__(self, **kwargs):\n",
    "        super().__init__()\n",
    "        \n",
    "    # Magic happens here - similarity calculation\n",
    "    def call(self, input_embedding, validation_embedding):\n",
    "        return tf.math.abs(input_embedding - validation_embedding)"
   ]
  },
  {
   "cell_type": "code",
   "execution_count": 16,
   "id": "d83b09b0-9022-40ce-9f4e-1641e9f74275",
   "metadata": {},
   "outputs": [],
   "source": [
    "l1 = L1Dist()"
   ]
  },
  {
   "cell_type": "code",
   "execution_count": 17,
   "id": "ebb94517-dd93-4143-b9ee-d4e1bbf60f53",
   "metadata": {},
   "outputs": [],
   "source": [
    "def make_saimese_model():\n",
    "    \n",
    "    # Anchor image in a network\n",
    "    input_image = Input(shape=(100, 100, 3), name='input_image')\n",
    "    \n",
    "    # Validation image in network\n",
    "    validation_image = Input(shape=(100, 100, 3), name='validation_image')\n",
    "    \n",
    "    # Combine siamese distance components\n",
    "    siamese_layer = L1Dist()\n",
    "    siamese_layer._name = 'distance'\n",
    "    distances = siamese_layer(embedding(input_image), embedding(validation_image))\n",
    "    \n",
    "    # Classfication layer\n",
    "    classifier = Dense(1, activation='sigmoid')(distances)\n",
    "    \n",
    "    return Model(inputs=[input_image, validation_image], outputs=classifier, name='SaimeseNetwork')\n",
    "    "
   ]
  },
  {
   "cell_type": "code",
   "execution_count": 18,
   "id": "bc0b15f5-8324-4806-b39a-359f37bdf7ab",
   "metadata": {},
   "outputs": [],
   "source": [
    "siamese_model = make_saimese_model()"
   ]
  },
  {
   "cell_type": "code",
   "execution_count": 19,
   "id": "c50d3666-e402-4fc5-a277-496bb91a8b6e",
   "metadata": {},
   "outputs": [
    {
     "name": "stdout",
     "output_type": "stream",
     "text": [
      "Model: \"SaimeseNetwork\"\n",
      "__________________________________________________________________________________________________\n",
      " Layer (type)                   Output Shape         Param #     Connected to                     \n",
      "==================================================================================================\n",
      " input_image (InputLayer)       [(None, 100, 100, 3  0           []                               \n",
      "                                )]                                                                \n",
      "                                                                                                  \n",
      " validation_image (InputLayer)  [(None, 100, 100, 3  0           []                               \n",
      "                                )]                                                                \n",
      "                                                                                                  \n",
      " embedding (Functional)         (None, 4096)         38960448    ['input_image[0][0]',            \n",
      "                                                                  'validation_image[0][0]']       \n",
      "                                                                                                  \n",
      " distance (L1Dist)              (None, 4096)         0           ['embedding[0][0]',              \n",
      "                                                                  'embedding[1][0]']              \n",
      "                                                                                                  \n",
      " dense_1 (Dense)                (None, 1)            4097        ['distance[0][0]']               \n",
      "                                                                                                  \n",
      "==================================================================================================\n",
      "Total params: 38,964,545\n",
      "Trainable params: 38,964,545\n",
      "Non-trainable params: 0\n",
      "__________________________________________________________________________________________________\n"
     ]
    }
   ],
   "source": [
    "siamese_model.summary()"
   ]
  },
  {
   "cell_type": "markdown",
   "id": "05c52314-dcb5-46ba-a152-267b2f989382",
   "metadata": {},
   "source": [
    "# Training "
   ]
  },
  {
   "cell_type": "code",
   "execution_count": 20,
   "id": "e5804b21-9702-468e-8aad-e35c6ee9e6b7",
   "metadata": {},
   "outputs": [],
   "source": [
    "# Setup loss function \n",
    "binary_cross_entropy_loss = tf.losses.BinaryCrossentropy()"
   ]
  },
  {
   "cell_type": "code",
   "execution_count": 21,
   "id": "6338d81d-ccf8-4f51-98fe-b50a93b0e808",
   "metadata": {},
   "outputs": [],
   "source": [
    "# Steup optimizer function\n",
    "optimizer = tf.keras.optimizers.Adam(learning_rate=1e-4) # 0.0001"
   ]
  },
  {
   "cell_type": "code",
   "execution_count": 22,
   "id": "fc22a549-5d0c-494d-bd07-189d62b24b98",
   "metadata": {},
   "outputs": [],
   "source": [
    "checkpoint_dir = os.path.join('training_checkpoints')\n",
    "checkpoint_prefix = os.path.join(checkpoint_dir, 'ckpt')\n",
    "checkpoint = tf.train.Checkpoint(opt=optimizer, siamese_model=siamese_model)"
   ]
  },
  {
   "cell_type": "markdown",
   "id": "c2eb6900-fe1d-427d-88c2-160edfa38cd9",
   "metadata": {},
   "source": [
    "## Build Train Step Function"
   ]
  },
  {
   "cell_type": "code",
   "execution_count": 23,
   "id": "3d1e19e6-7583-48ca-84f3-0179e52f0816",
   "metadata": {},
   "outputs": [],
   "source": [
    "@tf.function\n",
    "def tarin_step(batch):\n",
    "    \n",
    "    with tf.GradientTape() as tape:\n",
    "        # Get anchor and positive/negative images\n",
    "        X= batch[:2]\n",
    "        # Get label\n",
    "        y = batch[2]\n",
    "        \n",
    "        # Forward pass\n",
    "        ypred = siamese_model(X, training=True)\n",
    "        \n",
    "        # Calculate loss\n",
    "        loss = binary_cross_entropy_loss(y, ypred)\n",
    "        \n",
    "    # Calculate gradients\n",
    "    grad = tape.gradient(loss, siamese_model.trainable_variables)\n",
    "    \n",
    "    # Calculate updated weights and apply to siamese_model\n",
    "    optimizer.apply_gradients(zip(grad, siamese_model.trainable_variables))\n",
    "    \n",
    "    return loss"
   ]
  },
  {
   "cell_type": "code",
   "execution_count": 24,
   "id": "60d622aa-0c70-4b69-ba20-56d214dba8ef",
   "metadata": {},
   "outputs": [],
   "source": [
    "def train(data, EPOCHS):\n",
    "    # Loop through epochs\n",
    "    for epoch in range(1, EPOCHS+1):\n",
    "        print('\\n Epoch{}/{}'.format(epoch, EPOCHS))\n",
    "        prog_bar = tf.keras.utils.Progbar(len(data))\n",
    "        \n",
    "        # Loop through each batch\n",
    "        for idx, batch in enumerate(data):\n",
    "            # run train step here\n",
    "            tarin_step(batch)\n",
    "            prog_bar.update(idx+1)\n",
    "            \n",
    "        # Save checkpoints\n",
    "        if epoch% 10 == 0:\n",
    "            checkpoint.save(file_prefix=checkpoint_prefix)"
   ]
  },
  {
   "cell_type": "code",
   "execution_count": 25,
   "id": "b05e4487-bc1c-4414-8d2c-27e7e27d1336",
   "metadata": {},
   "outputs": [],
   "source": [
    "EPOCHS = 50"
   ]
  },
  {
   "cell_type": "code",
   "execution_count": 26,
   "id": "af2828be-881f-4954-af32-4d4e137965bd",
   "metadata": {
    "scrolled": true,
    "tags": []
   },
   "outputs": [
    {
     "name": "stdout",
     "output_type": "stream",
     "text": [
      "\n",
      " Epoch1/50\n",
      "8/8 [==============================] - 10s 417ms/step\n",
      "\n",
      " Epoch2/50\n",
      "8/8 [==============================] - 2s 345ms/step\n",
      "\n",
      " Epoch3/50\n",
      "8/8 [==============================] - 3s 340ms/step\n",
      "\n",
      " Epoch4/50\n",
      "8/8 [==============================] - 3s 334ms/step\n",
      "\n",
      " Epoch5/50\n",
      "8/8 [==============================] - 3s 333ms/step\n",
      "\n",
      " Epoch6/50\n",
      "8/8 [==============================] - 2s 331ms/step\n",
      "\n",
      " Epoch7/50\n",
      "8/8 [==============================] - 3s 335ms/step\n",
      "\n",
      " Epoch8/50\n",
      "8/8 [==============================] - 3s 338ms/step\n",
      "\n",
      " Epoch9/50\n",
      "8/8 [==============================] - 3s 338ms/step\n",
      "\n",
      " Epoch10/50\n",
      "8/8 [==============================] - 3s 339ms/step\n",
      "\n",
      " Epoch11/50\n",
      "8/8 [==============================] - 2s 341ms/step\n",
      "\n",
      " Epoch12/50\n",
      "8/8 [==============================] - 3s 338ms/step\n",
      "\n",
      " Epoch13/50\n",
      "8/8 [==============================] - 3s 339ms/step\n",
      "\n",
      " Epoch14/50\n",
      "8/8 [==============================] - 3s 340ms/step\n",
      "\n",
      " Epoch15/50\n",
      "8/8 [==============================] - 3s 339ms/step\n",
      "\n",
      " Epoch16/50\n",
      "8/8 [==============================] - 3s 338ms/step\n",
      "\n",
      " Epoch17/50\n",
      "8/8 [==============================] - 3s 339ms/step\n",
      "\n",
      " Epoch18/50\n",
      "8/8 [==============================] - 3s 339ms/step\n",
      "\n",
      " Epoch19/50\n",
      "8/8 [==============================] - 3s 339ms/step\n",
      "\n",
      " Epoch20/50\n",
      "8/8 [==============================] - 3s 339ms/step\n",
      "\n",
      " Epoch21/50\n",
      "8/8 [==============================] - 2s 341ms/step\n",
      "\n",
      " Epoch22/50\n",
      "8/8 [==============================] - 3s 338ms/step\n",
      "\n",
      " Epoch23/50\n",
      "8/8 [==============================] - 3s 339ms/step\n",
      "\n",
      " Epoch24/50\n",
      "8/8 [==============================] - 3s 339ms/step\n",
      "\n",
      " Epoch25/50\n",
      "8/8 [==============================] - 3s 340ms/step\n",
      "\n",
      " Epoch26/50\n",
      "8/8 [==============================] - 3s 340ms/step\n",
      "\n",
      " Epoch27/50\n",
      "8/8 [==============================] - 3s 340ms/step\n",
      "\n",
      " Epoch28/50\n",
      "8/8 [==============================] - 3s 340ms/step\n",
      "\n",
      " Epoch29/50\n",
      "8/8 [==============================] - 3s 340ms/step\n",
      "\n",
      " Epoch30/50\n",
      "8/8 [==============================] - 3s 340ms/step\n",
      "\n",
      " Epoch31/50\n",
      "8/8 [==============================] - 2s 342ms/step\n",
      "\n",
      " Epoch32/50\n",
      "8/8 [==============================] - 3s 339ms/step\n",
      "\n",
      " Epoch33/50\n",
      "8/8 [==============================] - 3s 339ms/step\n",
      "\n",
      " Epoch34/50\n",
      "8/8 [==============================] - 3s 341ms/step\n",
      "\n",
      " Epoch35/50\n",
      "8/8 [==============================] - 3s 340ms/step\n",
      "\n",
      " Epoch36/50\n",
      "8/8 [==============================] - 3s 341ms/step\n",
      "\n",
      " Epoch37/50\n",
      "8/8 [==============================] - 3s 340ms/step\n",
      "\n",
      " Epoch38/50\n",
      "8/8 [==============================] - 3s 340ms/step\n",
      "\n",
      " Epoch39/50\n",
      "8/8 [==============================] - 3s 341ms/step\n",
      "\n",
      " Epoch40/50\n",
      "8/8 [==============================] - 3s 341ms/step\n",
      "\n",
      " Epoch41/50\n",
      "8/8 [==============================] - 2s 343ms/step\n",
      "\n",
      " Epoch42/50\n",
      "8/8 [==============================] - 3s 340ms/step\n",
      "\n",
      " Epoch43/50\n",
      "8/8 [==============================] - 3s 340ms/step\n",
      "\n",
      " Epoch44/50\n",
      "8/8 [==============================] - 3s 340ms/step\n",
      "\n",
      " Epoch45/50\n",
      "8/8 [==============================] - 3s 341ms/step\n",
      "\n",
      " Epoch46/50\n",
      "8/8 [==============================] - 3s 341ms/step\n",
      "\n",
      " Epoch47/50\n",
      "8/8 [==============================] - 3s 341ms/step\n",
      "\n",
      " Epoch48/50\n",
      "8/8 [==============================] - 3s 341ms/step\n",
      "\n",
      " Epoch49/50\n",
      "8/8 [==============================] - 3s 341ms/step\n",
      "\n",
      " Epoch50/50\n",
      "8/8 [==============================] - 3s 341ms/step\n"
     ]
    }
   ],
   "source": [
    "train(train_data, EPOCHS)"
   ]
  },
  {
   "cell_type": "markdown",
   "id": "fcbf49dc-f978-4753-ab2f-57eb71855881",
   "metadata": {},
   "source": [
    "# Evaluate Model"
   ]
  },
  {
   "cell_type": "code",
   "execution_count": 27,
   "id": "02c78052-2bb2-4c12-b2d6-e8abc5df9e5b",
   "metadata": {},
   "outputs": [],
   "source": [
    "# Import metric calculaltions\n",
    "from tensorflow.keras.metrics import Precision, Recall"
   ]
  },
  {
   "cell_type": "code",
   "execution_count": 34,
   "id": "8173bc85-6833-4ca3-8209-0747db348520",
   "metadata": {},
   "outputs": [],
   "source": [
    "# Get a batch of data\n",
    "test_input, test_val, test_label = test_data.as_numpy_iterator().next()"
   ]
  },
  {
   "cell_type": "code",
   "execution_count": 35,
   "id": "8881ade3-f868-444f-a780-a911f29cd1d7",
   "metadata": {},
   "outputs": [
    {
     "name": "stdout",
     "output_type": "stream",
     "text": [
      "1/1 [==============================] - 0s 20ms/step\n"
     ]
    },
    {
     "data": {
      "text/plain": [
       "array([[2.3993927e-11],\n",
       "       [9.9964559e-01],\n",
       "       [9.9944776e-01],\n",
       "       [3.2799187e-11],\n",
       "       [5.3344214e-05],\n",
       "       [6.2541659e-08],\n",
       "       [6.5250843e-12],\n",
       "       [1.3448910e-10],\n",
       "       [9.9995577e-01],\n",
       "       [6.6557543e-10],\n",
       "       [9.9995840e-01],\n",
       "       [4.4730115e-07],\n",
       "       [9.9995816e-01],\n",
       "       [5.7203370e-12],\n",
       "       [4.5905866e-11],\n",
       "       [9.9982327e-01]], dtype=float32)"
      ]
     },
     "execution_count": 35,
     "metadata": {},
     "output_type": "execute_result"
    }
   ],
   "source": [
    "# Make predictions\n",
    "predicted_data = siamese_model.predict([test_input, test_val])\n",
    "predicted_data"
   ]
  },
  {
   "cell_type": "code",
   "execution_count": 36,
   "id": "fbe89021-7564-43ef-86fa-eb7e2b69c37c",
   "metadata": {},
   "outputs": [
    {
     "data": {
      "text/plain": [
       "[0, 1, 1, 0, 0, 0, 0, 0, 1, 0, 1, 0, 1, 0, 0, 1]"
      ]
     },
     "execution_count": 36,
     "metadata": {},
     "output_type": "execute_result"
    }
   ],
   "source": [
    "# Post processing predicted results\n",
    "[1 if prediction > 0.5 else 0 for prediction in predicted_data]"
   ]
  },
  {
   "cell_type": "code",
   "execution_count": 37,
   "id": "b37276f1-0d78-4d44-8bd3-49e0f150852e",
   "metadata": {},
   "outputs": [
    {
     "data": {
      "text/plain": [
       "array([0., 1., 1., 0., 0., 0., 0., 0., 1., 0., 1., 0., 1., 0., 0., 1.],\n",
       "      dtype=float32)"
      ]
     },
     "execution_count": 37,
     "metadata": {},
     "output_type": "execute_result"
    }
   ],
   "source": [
    "# Actucal data\n",
    "test_label"
   ]
  },
  {
   "cell_type": "code",
   "execution_count": 38,
   "id": "171c410c-a950-40a9-835d-e5b7e2da425c",
   "metadata": {},
   "outputs": [
    {
     "data": {
      "text/plain": [
       "1.0"
      ]
     },
     "execution_count": 38,
     "metadata": {},
     "output_type": "execute_result"
    }
   ],
   "source": [
    "# Creating a metric object\n",
    "recall = Recall()\n",
    "\n",
    "# Calculating recall value\n",
    "recall.update_state(test_label, predicted_data)\n",
    "\n",
    "# Return Recall Result\n",
    "recall.result().numpy()"
   ]
  },
  {
   "cell_type": "code",
   "execution_count": null,
   "id": "fe3dca4e-442c-406e-92c1-6a4de6f26356",
   "metadata": {},
   "outputs": [],
   "source": [
    "r = Recall()\n",
    "p = Precision()\n",
    "\n",
    "for test_input, test_val, y_true in test_data.as_numpy_iterator():\n",
    "    yhat = siamese_model.predict([test_input, test_val])\n",
    "    r.update_state(y_true, yhat)\n",
    "    p.update_state(y_true,yhat) \n",
    "\n",
    "print(r.result().numpy(), p.result().numpy())"
   ]
  },
  {
   "cell_type": "code",
   "execution_count": 41,
   "id": "2371aad4-396c-401a-9435-166c8a4f75d7",
   "metadata": {},
   "outputs": [
    {
     "data": {
      "text/plain": [
       "1.0"
      ]
     },
     "execution_count": 41,
     "metadata": {},
     "output_type": "execute_result"
    }
   ],
   "source": [
    "# Creating a metric object\n",
    "precision = Precision()\n",
    "\n",
    "# Calculating recall value\n",
    "precision.update_state(test_label, predicted_data)\n",
    "\n",
    "# Return Recall Result\n",
    "precision.result().numpy()"
   ]
  },
  {
   "cell_type": "code",
   "execution_count": 42,
   "id": "c3b9cb98-a8cb-4cf7-a974-c071a32b8ac9",
   "metadata": {},
   "outputs": [
    {
     "name": "stdout",
     "output_type": "stream",
     "text": [
      "1/1 [==============================] - 0s 24ms/step\n",
      "Precision: 1.0, Recall: 1.0\n",
      "1/1 [==============================] - 0s 19ms/step\n",
      "Precision: 1.0, Recall: 1.0\n",
      "1/1 [==============================] - 0s 17ms/step\n",
      "Precision: 1.0, Recall: 1.0\n",
      "1/1 [==============================] - 0s 355ms/step\n",
      "Precision: 1.0, Recall: 1.0\n"
     ]
    }
   ],
   "source": [
    "precision = Precision()\n",
    "recall = Recall()\n",
    "for test_input, test_val, test_label in test_data.as_numpy_iterator():\n",
    "    predicted_data = siamese_model.predict([ test_input, test_val])\n",
    "    precision.update_state(test_label, predicted_data)\n",
    "    recall.update_state(test_label, predicted_data)\n",
    "\n",
    "    print('Precision: {}, Recall: {}'.format(precision.result().numpy(), recall.result().numpy()))"
   ]
  },
  {
   "cell_type": "markdown",
   "id": "ec546e58-2adc-4213-8689-be552d3ee5b9",
   "metadata": {},
   "source": [
    "# Save Model"
   ]
  },
  {
   "cell_type": "code",
   "execution_count": 45,
   "id": "c9264f35-bc55-4ae0-b671-8cdadaad6f0b",
   "metadata": {},
   "outputs": [
    {
     "name": "stdout",
     "output_type": "stream",
     "text": [
      "WARNING:tensorflow:Compiled the loaded model, but the compiled metrics have yet to be built. `model.compile_metrics` will be empty until you train or evaluate the model.\n"
     ]
    }
   ],
   "source": [
    "# Save model weights\n",
    "siamese_model.save('face_detection.h5')"
   ]
  },
  {
   "cell_type": "markdown",
   "id": "094b53b3-cb1b-4928-b65e-3bde9443eb47",
   "metadata": {},
   "source": [
    "# Load and Predict using Model"
   ]
  },
  {
   "cell_type": "code",
   "execution_count": 47,
   "id": "45da3417-e5d2-4e3e-8033-e4a589a04624",
   "metadata": {},
   "outputs": [
    {
     "name": "stdout",
     "output_type": "stream",
     "text": [
      "WARNING:tensorflow:No training configuration found in the save file, so the model was *not* compiled. Compile it manually.\n"
     ]
    }
   ],
   "source": [
    "# Reload model\n",
    "model = tf.keras.models.load_model('face_detection.h5', custom_objects={'L1Dist': L1Dist, 'BinaryCrossentropy': tf.losses.BinaryCrossentropy})"
   ]
  },
  {
   "cell_type": "code",
   "execution_count": 48,
   "id": "64a66f21-109c-4ba9-8cae-6b8124ece94a",
   "metadata": {
    "collapsed": true,
    "jupyter": {
     "outputs_hidden": true
    },
    "tags": []
   },
   "outputs": [
    {
     "name": "stdout",
     "output_type": "stream",
     "text": [
      "1/1 [==============================] - 0s 99ms/step\n"
     ]
    },
    {
     "data": {
      "text/plain": [
       "array([[3.27993119e-11],\n",
       "       [9.98132169e-01],\n",
       "       [3.98924426e-12],\n",
       "       [1.03584094e-11]], dtype=float32)"
      ]
     },
     "execution_count": 48,
     "metadata": {},
     "output_type": "execute_result"
    }
   ],
   "source": [
    "model.predict([test_input, test_val])"
   ]
  },
  {
   "cell_type": "code",
   "execution_count": 49,
   "id": "05f91df8-bdd2-4074-af4a-895d57ca24d6",
   "metadata": {},
   "outputs": [
    {
     "name": "stdout",
     "output_type": "stream",
     "text": [
      "Model: \"SaimeseNetwork\"\n",
      "__________________________________________________________________________________________________\n",
      " Layer (type)                   Output Shape         Param #     Connected to                     \n",
      "==================================================================================================\n",
      " input_image (InputLayer)       [(None, 100, 100, 3  0           []                               \n",
      "                                )]                                                                \n",
      "                                                                                                  \n",
      " validation_image (InputLayer)  [(None, 100, 100, 3  0           []                               \n",
      "                                )]                                                                \n",
      "                                                                                                  \n",
      " embedding (Functional)         (None, 4096)         38960448    ['input_image[0][0]',            \n",
      "                                                                  'validation_image[0][0]']       \n",
      "                                                                                                  \n",
      " l1_dist_2 (L1Dist)             (None, 4096)         0           ['embedding[0][0]',              \n",
      "                                                                  'embedding[1][0]']              \n",
      "                                                                                                  \n",
      " dense_1 (Dense)                (None, 1)            4097        ['l1_dist_2[0][0]']              \n",
      "                                                                                                  \n",
      "==================================================================================================\n",
      "Total params: 38,964,545\n",
      "Trainable params: 38,964,545\n",
      "Non-trainable params: 0\n",
      "__________________________________________________________________________________________________\n"
     ]
    }
   ],
   "source": [
    "model.summary()"
   ]
  },
  {
   "cell_type": "markdown",
   "id": "77456936-ebe7-443b-8462-8dc7000a1ab9",
   "metadata": {},
   "source": [
    "# Real Time Test"
   ]
  },
  {
   "cell_type": "markdown",
   "id": "451f0e47-c1f1-4c5e-9f44-f247f5fc129c",
   "metadata": {},
   "source": [
    "## Verifcation function"
   ]
  },
  {
   "cell_type": "code",
   "execution_count": 75,
   "id": "3ca7ba5b-a7b2-4ca9-aa33-c4298ad33fe4",
   "metadata": {},
   "outputs": [],
   "source": [
    "def verify(model, detection_threshold, verification_thershold):\n",
    "    # Build results array\n",
    "    results = []\n",
    "    for image_path in os.listdir(os.path.join('application_data', 'verification_images')):\n",
    "        input_img = preprocess(os.path.join('application_data', 'verification_images', 'da55ff4e-4214-11ed-8158-362a4c8f52f7.jpg'))\n",
    "        validation_image = preprocess(os.path.join('application_data', 'verification_images', image_path))\n",
    "        \n",
    "        # Make Prediction\n",
    "        result = model.predict(list(np.expand_dims([input_img, validation_image], axis=1)))\n",
    "        results.append(result)\n",
    "    \n",
    "    # Detection Thershold: Metric above which a prediction is considered positive\n",
    "    detection = np.sum(np.array(results) > detection_threshold)\n",
    "    \n",
    "    # Verfication Thershold: Proportion of positive predictions / total positive samples\n",
    "    verification = detection / len(os.listdir(os.path.join('application_data', 'verification_images')))\n",
    "    verified = verification > verification_thershold\n",
    "    \n",
    "    return results, verified\n",
    "    "
   ]
  },
  {
   "cell_type": "markdown",
   "id": "9a3588f8-a119-4ef0-a4bd-6400d5d6b5cf",
   "metadata": {},
   "source": [
    "# OpenCV Real Time Verification"
   ]
  },
  {
   "cell_type": "code",
   "execution_count": 76,
   "id": "11d0d225-6f02-47cc-ad7b-dc67bfda2164",
   "metadata": {},
   "outputs": [
    {
     "name": "stdout",
     "output_type": "stream",
     "text": [
      "1/1 [==============================] - 0s 17ms/step\n",
      "1/1 [==============================] - 0s 17ms/step\n",
      "1/1 [==============================] - 0s 17ms/step\n",
      "1/1 [==============================] - 0s 16ms/step\n",
      "1/1 [==============================] - 0s 16ms/step\n",
      "1/1 [==============================] - 0s 17ms/step\n",
      "1/1 [==============================] - 0s 17ms/step\n",
      "1/1 [==============================] - 0s 16ms/step\n",
      "1/1 [==============================] - 0s 17ms/step\n",
      "1/1 [==============================] - 0s 17ms/step\n",
      "1/1 [==============================] - 0s 16ms/step\n",
      "1/1 [==============================] - 0s 16ms/step\n",
      "True\n"
     ]
    }
   ],
   "source": [
    "cap = cv2.VideoCapture(0)\n",
    "while cap.isOpened():\n",
    "    ret, frame = cap.read()\n",
    "    frame =  frame[120:120+250,200:200+250, :]\n",
    "    cv2.imshow('Verification', frame)\n",
    "    \n",
    "    if cv2.waitKey(1) & 0xFF == ord('v'):\n",
    "        # Save input image to application_data/input_images folder\n",
    "        cv2.imwrite(os.path.join('application_data', 'input_images', 'input_image.jpg'), frame)\n",
    "        # Run verification func\n",
    "        results, verified = verify(model, 0.5, 0.5)\n",
    "        print(verified)\n",
    "    \n",
    "    if cv2.waitKey(10) & 0xFF == ord('q'):\n",
    "        break\n",
    "    \n",
    "cap.release()\n",
    "cv2.destroyAllWindows()"
   ]
  },
  {
   "cell_type": "code",
   "execution_count": 65,
   "id": "867fe29b-e5c2-4d56-9f07-cc59c2298679",
   "metadata": {},
   "outputs": [
    {
     "data": {
      "text/plain": [
       "(480, 640, 3)"
      ]
     },
     "execution_count": 65,
     "metadata": {},
     "output_type": "execute_result"
    }
   ],
   "source": [
    "frame.shape"
   ]
  },
  {
   "cell_type": "code",
   "execution_count": null,
   "id": "f5d69ae8-4096-4a26-bd48-c3ff819b3a8e",
   "metadata": {},
   "outputs": [],
   "source": []
  }
 ],
 "metadata": {
  "kernelspec": {
   "display_name": "Python 3 (ipykernel)",
   "language": "python",
   "name": "python3"
  },
  "language_info": {
   "codemirror_mode": {
    "name": "ipython",
    "version": 3
   },
   "file_extension": ".py",
   "mimetype": "text/x-python",
   "name": "python",
   "nbconvert_exporter": "python",
   "pygments_lexer": "ipython3",
   "version": "3.9.6"
  }
 },
 "nbformat": 4,
 "nbformat_minor": 5
}
